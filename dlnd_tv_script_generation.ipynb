{
 "cells": [
  {
   "cell_type": "markdown",
   "metadata": {
    "deletable": true,
    "editable": true
   },
   "source": [
    "# TV Script Generation\n",
    "In this project, you'll generate your own [Simpsons](https://en.wikipedia.org/wiki/The_Simpsons) TV scripts using RNNs.  You'll be using part of the [Simpsons dataset](https://www.kaggle.com/wcukierski/the-simpsons-by-the-data) of scripts from 27 seasons.  The Neural Network you'll build will generate a new TV script for a scene at [Moe's Tavern](https://simpsonswiki.com/wiki/Moe's_Tavern).\n",
    "## Get the Data\n",
    "The data is already provided for you.  You'll be using a subset of the original dataset.  It consists of only the scenes in Moe's Tavern.  This doesn't include other versions of the tavern, like \"Moe's Cavern\", \"Flaming Moe's\", \"Uncle Moe's Family Feed-Bag\", etc.."
   ]
  },
  {
   "cell_type": "code",
   "execution_count": 1,
   "metadata": {
    "collapsed": false,
    "deletable": true,
    "editable": true
   },
   "outputs": [],
   "source": [
    "\"\"\"\n",
    "DON'T MODIFY ANYTHING IN THIS CELL\n",
    "\"\"\"\n",
    "import helper\n",
    "\n",
    "data_dir = './data/simpsons/moes_tavern_lines.txt'\n",
    "text = helper.load_data(data_dir)\n",
    "# Ignore notice, since we don't use it for analysing the data\n",
    "text = text[81:]"
   ]
  },
  {
   "cell_type": "markdown",
   "metadata": {
    "deletable": true,
    "editable": true
   },
   "source": [
    "## Explore the Data\n",
    "Play around with `view_sentence_range` to view different parts of the data."
   ]
  },
  {
   "cell_type": "code",
   "execution_count": 2,
   "metadata": {
    "collapsed": false,
    "deletable": true,
    "editable": true
   },
   "outputs": [
    {
     "name": "stdout",
     "output_type": "stream",
     "text": [
      "Dataset Stats\n",
      "Roughly the number of unique words: 11492\n",
      "Number of scenes: 262\n",
      "Average number of sentences in each scene: 15.248091603053435\n",
      "Number of lines: 4257\n",
      "Average number of words in each line: 11.50434578341555\n",
      "\n",
      "The sentences 10 to 20:\n",
      "Moe_Szyslak: Ah, isn't that nice. Now, there is a politician who cares.\n",
      "Barney_Gumble: If I ever vote, it'll be for him. (BELCH)\n",
      "\n",
      "\n",
      "Barney_Gumble: Hey Homer, how's your neighbor's store doing?\n",
      "Homer_Simpson: Lousy. He just sits there all day. He'd have a great job if he didn't own the place. (CHUCKLES)\n",
      "Moe_Szyslak: (STRUGGLING WITH CORKSCREW) Crummy right-handed corkscrews! What does he sell?\n",
      "Homer_Simpson: Uh, well actually, Moe...\n",
      "HOMER_(CONT'D: I dunno.\n",
      "\n"
     ]
    }
   ],
   "source": [
    "view_sentence_range = (10, 20)\n",
    "\n",
    "\"\"\"\n",
    "DON'T MODIFY ANYTHING IN THIS CELL\n",
    "\"\"\"\n",
    "import numpy as np\n",
    "\n",
    "print('Dataset Stats')\n",
    "print('Roughly the number of unique words: {}'.format(len({word: None for word in text.split()})))\n",
    "scenes = text.split('\\n\\n')\n",
    "print('Number of scenes: {}'.format(len(scenes)))\n",
    "sentence_count_scene = [scene.count('\\n') for scene in scenes]\n",
    "print('Average number of sentences in each scene: {}'.format(np.average(sentence_count_scene)))\n",
    "\n",
    "sentences = [sentence for scene in scenes for sentence in scene.split('\\n')]\n",
    "print('Number of lines: {}'.format(len(sentences)))\n",
    "word_count_sentence = [len(sentence.split()) for sentence in sentences]\n",
    "print('Average number of words in each line: {}'.format(np.average(word_count_sentence)))\n",
    "\n",
    "print()\n",
    "print('The sentences {} to {}:'.format(*view_sentence_range))\n",
    "print('\\n'.join(text.split('\\n')[view_sentence_range[0]:view_sentence_range[1]]))"
   ]
  },
  {
   "cell_type": "markdown",
   "metadata": {
    "deletable": true,
    "editable": true
   },
   "source": [
    "## Implement Preprocessing Functions\n",
    "The first thing to do to any dataset is preprocessing.  Implement the following preprocessing functions below:\n",
    "- Lookup Table\n",
    "- Tokenize Punctuation\n",
    "\n",
    "### Lookup Table\n",
    "To create a word embedding, you first need to transform the words to ids.  In this function, create two dictionaries:\n",
    "- Dictionary to go from the words to an id, we'll call `vocab_to_int`\n",
    "- Dictionary to go from the id to word, we'll call `int_to_vocab`\n",
    "\n",
    "Return these dictionaries in the following tuple `(vocab_to_int, int_to_vocab)`"
   ]
  },
  {
   "cell_type": "code",
   "execution_count": 3,
   "metadata": {
    "collapsed": false,
    "deletable": true,
    "editable": true
   },
   "outputs": [
    {
     "name": "stdout",
     "output_type": "stream",
     "text": [
      "Tests Passed\n"
     ]
    }
   ],
   "source": [
    "import numpy as np\n",
    "import problem_unittests as tests\n",
    "from collections import Counter\n",
    "\n",
    "def create_lookup_tables(text):\n",
    "    \"\"\"\n",
    "    Create lookup tables for vocabulary\n",
    "    :param text: The text of tv scripts split into words\n",
    "    :return: A tuple of dicts (vocab_to_int, int_to_vocab)\n",
    "    \"\"\"\n",
    "    # TODO: Implement Function\n",
    "    \n",
    "    c = Counter(text)\n",
    "    vocab_to_int = {}\n",
    "    int_to_vocab = {}\n",
    "    for i,v in enumerate(c.most_common()):\n",
    "        vocab_to_int[v[0]] = i\n",
    "        int_to_vocab[i] = v[0]\n",
    "    return vocab_to_int, int_to_vocab\n",
    "\n",
    "\n",
    "\"\"\"\n",
    "DON'T MODIFY ANYTHING IN THIS CELL THAT IS BELOW THIS LINE\n",
    "\"\"\"\n",
    "tests.test_create_lookup_tables(create_lookup_tables)"
   ]
  },
  {
   "cell_type": "markdown",
   "metadata": {
    "deletable": true,
    "editable": true
   },
   "source": [
    "### Tokenize Punctuation\n",
    "We'll be splitting the script into a word array using spaces as delimiters.  However, punctuations like periods and exclamation marks make it hard for the neural network to distinguish between the word \"bye\" and \"bye!\".\n",
    "\n",
    "Implement the function `token_lookup` to return a dict that will be used to tokenize symbols like \"!\" into \"||Exclamation_Mark||\".  Create a dictionary for the following symbols where the symbol is the key and value is the token:\n",
    "- Period ( . )\n",
    "- Comma ( , )\n",
    "- Quotation Mark ( \" )\n",
    "- Semicolon ( ; )\n",
    "- Exclamation mark ( ! )\n",
    "- Question mark ( ? )\n",
    "- Left Parentheses ( ( )\n",
    "- Right Parentheses ( ) )\n",
    "- Dash ( -- )\n",
    "- Return ( \\n )\n",
    "\n",
    "This dictionary will be used to token the symbols and add the delimiter (space) around it.  This separates the symbols as it's own word, making it easier for the neural network to predict on the next word. Make sure you don't use a token that could be confused as a word. Instead of using the token \"dash\", try using something like \"||dash||\"."
   ]
  },
  {
   "cell_type": "code",
   "execution_count": 4,
   "metadata": {
    "collapsed": false,
    "deletable": true,
    "editable": true
   },
   "outputs": [
    {
     "name": "stdout",
     "output_type": "stream",
     "text": [
      "Tests Passed\n"
     ]
    }
   ],
   "source": [
    "def token_lookup():\n",
    "    \"\"\"\n",
    "    Generate a dict to turn punctuation into a token.\n",
    "    :return: Tokenize dictionary where the key is the punctuation and the value is the token\n",
    "    \"\"\"\n",
    "    # TODO: Implement Function\n",
    "    return {'.':'||Period||', \n",
    "         ',':'||Comma||',\n",
    "         '\\\"':'||Quotation_Mark||',\n",
    "         ';':'||Semicolon||',\n",
    "         '!':'||Exclamation_Mark||',\n",
    "         '?':'||Question_Mark||',\n",
    "         '(':'||Left_Parentheses||',\n",
    "         ')':'||Right_Parentheses||',\n",
    "         '--':'||Dash||',\n",
    "         '\\n':'||Return||'}\n",
    "\n",
    "\"\"\"\n",
    "DON'T MODIFY ANYTHING IN THIS CELL THAT IS BELOW THIS LINE\n",
    "\"\"\"\n",
    "tests.test_tokenize(token_lookup)"
   ]
  },
  {
   "cell_type": "markdown",
   "metadata": {
    "deletable": true,
    "editable": true
   },
   "source": [
    "## Preprocess all the data and save it\n",
    "Running the code cell below will preprocess all the data and save it to file."
   ]
  },
  {
   "cell_type": "code",
   "execution_count": 5,
   "metadata": {
    "collapsed": false,
    "deletable": true,
    "editable": true
   },
   "outputs": [],
   "source": [
    "\"\"\"\n",
    "DON'T MODIFY ANYTHING IN THIS CELL\n",
    "\"\"\"\n",
    "# Preprocess Training, Validation, and Testing Data\n",
    "helper.preprocess_and_save_data(data_dir, token_lookup, create_lookup_tables)"
   ]
  },
  {
   "cell_type": "markdown",
   "metadata": {
    "deletable": true,
    "editable": true
   },
   "source": [
    "# Check Point\n",
    "This is your first checkpoint. If you ever decide to come back to this notebook or have to restart the notebook, you can start from here. The preprocessed data has been saved to disk."
   ]
  },
  {
   "cell_type": "code",
   "execution_count": 6,
   "metadata": {
    "collapsed": false,
    "deletable": true,
    "editable": true
   },
   "outputs": [],
   "source": [
    "\"\"\"\n",
    "DON'T MODIFY ANYTHING IN THIS CELL\n",
    "\"\"\"\n",
    "import helper\n",
    "import numpy as np\n",
    "import problem_unittests as tests\n",
    "\n",
    "int_text, vocab_to_int, int_to_vocab, token_dict = helper.load_preprocess()"
   ]
  },
  {
   "cell_type": "markdown",
   "metadata": {
    "deletable": true,
    "editable": true
   },
   "source": [
    "## Build the Neural Network\n",
    "You'll build the components necessary to build a RNN by implementing the following functions below:\n",
    "- get_inputs\n",
    "- get_init_cell\n",
    "- get_embed\n",
    "- build_rnn\n",
    "- build_nn\n",
    "- get_batches\n",
    "\n",
    "### Check the Version of TensorFlow and Access to GPU"
   ]
  },
  {
   "cell_type": "code",
   "execution_count": 7,
   "metadata": {
    "collapsed": false,
    "deletable": true,
    "editable": true
   },
   "outputs": [
    {
     "name": "stdout",
     "output_type": "stream",
     "text": [
      "TensorFlow Version: 1.0.1\n",
      "Default GPU Device: /gpu:0\n"
     ]
    }
   ],
   "source": [
    "\"\"\"\n",
    "DON'T MODIFY ANYTHING IN THIS CELL\n",
    "\"\"\"\n",
    "from distutils.version import LooseVersion\n",
    "import warnings\n",
    "import tensorflow as tf\n",
    "\n",
    "# Check TensorFlow Version\n",
    "assert LooseVersion(tf.__version__) >= LooseVersion('1.0'), 'Please use TensorFlow version 1.0 or newer'\n",
    "print('TensorFlow Version: {}'.format(tf.__version__))\n",
    "\n",
    "# Check for a GPU\n",
    "if not tf.test.gpu_device_name():\n",
    "    warnings.warn('No GPU found. Please use a GPU to train your neural network.')\n",
    "else:\n",
    "    print('Default GPU Device: {}'.format(tf.test.gpu_device_name()))"
   ]
  },
  {
   "cell_type": "markdown",
   "metadata": {
    "deletable": true,
    "editable": true
   },
   "source": [
    "### Input\n",
    "Implement the `get_inputs()` function to create TF Placeholders for the Neural Network.  It should create the following placeholders:\n",
    "- Input text placeholder named \"input\" using the [TF Placeholder](https://www.tensorflow.org/api_docs/python/tf/placeholder) `name` parameter.\n",
    "- Targets placeholder\n",
    "- Learning Rate placeholder\n",
    "\n",
    "Return the placeholders in the following the tuple `(Input, Targets, LearingRate)`"
   ]
  },
  {
   "cell_type": "code",
   "execution_count": 8,
   "metadata": {
    "collapsed": false,
    "deletable": true,
    "editable": true
   },
   "outputs": [
    {
     "name": "stdout",
     "output_type": "stream",
     "text": [
      "Tests Passed\n"
     ]
    }
   ],
   "source": [
    "def get_inputs():\n",
    "    \"\"\"\n",
    "    Create TF Placeholders for input, targets, and learning rate.\n",
    "    :return: Tuple (input, targets, learning rate)\n",
    "    \"\"\"\n",
    "    # TODO: Implement Function\n",
    "    inputs = tf.placeholder(tf.int32, shape=(None, None), name=\"input\")\n",
    "    targets = tf.placeholder(tf.int32, shape=(None, None), name=\"targets\")\n",
    "    learning_rate = tf.placeholder(tf.float32, name=\"learningrate\")\n",
    "    return inputs, targets, learning_rate\n",
    "\n",
    "\n",
    "\"\"\"\n",
    "DON'T MODIFY ANYTHING IN THIS CELL THAT IS BELOW THIS LINE\n",
    "\"\"\"\n",
    "tests.test_get_inputs(get_inputs)"
   ]
  },
  {
   "cell_type": "markdown",
   "metadata": {
    "deletable": true,
    "editable": true
   },
   "source": [
    "### Build RNN Cell and Initialize\n",
    "Stack one or more [`BasicLSTMCells`](https://www.tensorflow.org/api_docs/python/tf/contrib/rnn/BasicLSTMCell) in a [`MultiRNNCell`](https://www.tensorflow.org/api_docs/python/tf/contrib/rnn/MultiRNNCell).\n",
    "- The Rnn size should be set using `rnn_size`\n",
    "- Initalize Cell State using the MultiRNNCell's [`zero_state()`](https://www.tensorflow.org/api_docs/python/tf/contrib/rnn/MultiRNNCell#zero_state) function\n",
    "    - Apply the name \"initial_state\" to the initial state using [`tf.identity()`](https://www.tensorflow.org/api_docs/python/tf/identity)\n",
    "\n",
    "Return the cell and initial state in the following tuple `(Cell, InitialState)`"
   ]
  },
  {
   "cell_type": "code",
   "execution_count": 20,
   "metadata": {
    "collapsed": false,
    "deletable": true,
    "editable": true
   },
   "outputs": [
    {
     "name": "stdout",
     "output_type": "stream",
     "text": [
      "Tests Passed\n"
     ]
    }
   ],
   "source": [
    "def get_init_cell(batch_size, rnn_size):\n",
    "    \"\"\"\n",
    "    Create an RNN Cell and initialize it.\n",
    "    :param batch_size: Size of batches\n",
    "    :param rnn_size: Size of RNNs\n",
    "    :return: Tuple (cell, initialize state)\n",
    "    \"\"\"\n",
    "    # TODO: Implement Function\n",
    "    c1 = tf.contrib.rnn.BasicLSTMCell(num_units=rnn_size)\n",
    "    c2 = tf.contrib.rnn.DropoutWrapper(c1, output_keep_prob=0.8)\n",
    "    c = tf.contrib.rnn.MultiRNNCell([c2]*3)\n",
    "    return c, tf.identity(c.zero_state(batch_size, tf.float32), \"initial_state\")\n",
    "\n",
    "\n",
    "\"\"\"\n",
    "DON'T MODIFY ANYTHING IN THIS CELL THAT IS BELOW THIS LINE\n",
    "\"\"\"\n",
    "tests.test_get_init_cell(get_init_cell)"
   ]
  },
  {
   "cell_type": "markdown",
   "metadata": {
    "deletable": true,
    "editable": true
   },
   "source": [
    "### Word Embedding\n",
    "Apply embedding to `input_data` using TensorFlow.  Return the embedded sequence."
   ]
  },
  {
   "cell_type": "code",
   "execution_count": 21,
   "metadata": {
    "collapsed": false,
    "deletable": true,
    "editable": true
   },
   "outputs": [
    {
     "name": "stdout",
     "output_type": "stream",
     "text": [
      "Tests Passed\n"
     ]
    }
   ],
   "source": [
    "def get_embed(input_data, vocab_size, embed_dim):\n",
    "    \"\"\"\n",
    "    Create embedding for <input_data>.\n",
    "    :param input_data: TF placeholder for text input.\n",
    "    :param vocab_size: Number of words in vocabulary.\n",
    "    :param embed_dim: Number of embedding dimensions\n",
    "    :return: Embedded input.\n",
    "    \"\"\"\n",
    "\n",
    "    embedding = tf.Variable(tf.random_uniform((vocab_size, embed_dim),-1,-1))# create embedding weight matrix here\n",
    "    return tf.nn.embedding_lookup(embedding, input_data)# use tf.nn.embedding_lookup to get the hidden layer output\n",
    "\n",
    "\n",
    "\n",
    "\"\"\"\n",
    "DON'T MODIFY ANYTHING IN THIS CELL THAT IS BELOW THIS LINE\n",
    "\"\"\"\n",
    "tests.test_get_embed(get_embed)"
   ]
  },
  {
   "cell_type": "markdown",
   "metadata": {
    "deletable": true,
    "editable": true
   },
   "source": [
    "### Build RNN\n",
    "You created a RNN Cell in the `get_init_cell()` function.  Time to use the cell to create a RNN.\n",
    "- Build the RNN using the [`tf.nn.dynamic_rnn()`](https://www.tensorflow.org/api_docs/python/tf/nn/dynamic_rnn)\n",
    " - Apply the name \"final_state\" to the final state using [`tf.identity()`](https://www.tensorflow.org/api_docs/python/tf/identity)\n",
    "\n",
    "Return the outputs and final_state state in the following tuple `(Outputs, FinalState)` "
   ]
  },
  {
   "cell_type": "code",
   "execution_count": 22,
   "metadata": {
    "collapsed": false,
    "deletable": true,
    "editable": true
   },
   "outputs": [
    {
     "name": "stdout",
     "output_type": "stream",
     "text": [
      "Tests Passed\n"
     ]
    }
   ],
   "source": [
    "def build_rnn(cell, inputs):\n",
    "    \"\"\"\n",
    "    Create a RNN using a RNN Cell\n",
    "    :param cell: RNN Cell\n",
    "    :param inputs: Input text data\n",
    "    :return: Tuple (Outputs, Final State)\n",
    "    \"\"\"\n",
    "    # TODO: Implement Function\n",
    "    output, final_state = tf.nn.dynamic_rnn(cell, inputs, dtype=tf.float32)\n",
    "    #output, final_state = tf.nn.dynamic_rnn(cell, inputs)\n",
    "    return output, tf.identity(final_state, \"final_state\")\n",
    "\n",
    "\n",
    "\"\"\"\n",
    "DON'T MODIFY ANYTHING IN THIS CELL THAT IS BELOW THIS LINE\n",
    "\"\"\"\n",
    "tests.test_build_rnn(build_rnn)"
   ]
  },
  {
   "cell_type": "markdown",
   "metadata": {
    "deletable": true,
    "editable": true
   },
   "source": [
    "### Build the Neural Network\n",
    "Apply the functions you implemented above to:\n",
    "- Apply embedding to `input_data` using your `get_embed(input_data, vocab_size, embed_dim)` function.\n",
    "- Build RNN using `cell` and your `build_rnn(cell, inputs)` function.\n",
    "- Apply a fully connected layer with a linear activation and `vocab_size` as the number of outputs.\n",
    "\n",
    "Return the logits and final state in the following tuple (Logits, FinalState) "
   ]
  },
  {
   "cell_type": "code",
   "execution_count": 23,
   "metadata": {
    "collapsed": false,
    "deletable": true,
    "editable": true
   },
   "outputs": [
    {
     "name": "stdout",
     "output_type": "stream",
     "text": [
      "Tests Passed\n"
     ]
    }
   ],
   "source": [
    "def build_nn(cell, rnn_size, input_data, vocab_size):\n",
    "    \"\"\"\n",
    "    Build part of the neural network\n",
    "    :param cell: RNN cell\n",
    "    :param rnn_size: Size of rnns\n",
    "    :param input_data: Input data\n",
    "    :param vocab_size: Vocabulary size\n",
    "    :return: Tuple (Logits, FinalState)\n",
    "    \"\"\"\n",
    "    # TODO: Implement Function\n",
    "    embedding = get_embed(input_data, vocab_size, rnn_size)\n",
    "    outputs, state = build_rnn(cell, embedding)\n",
    "    predictions = tf.contrib.layers.fully_connected(outputs,\n",
    "                                                    vocab_size, \n",
    "                                                    weights_initializer=tf.truncated_normal_initializer(stddev=0.1),\n",
    "                                                   biases_initializer=tf.zeros_initializer())\n",
    "    #predictions = tf.contrib.layers.fully_connected(predictions, vocab_size)\n",
    "\n",
    "    return predictions, state\n",
    "\n",
    "\n",
    "\"\"\"\n",
    "DON'T MODIFY ANYTHING IN THIS CELL THAT IS BELOW THIS LINE\n",
    "\"\"\"\n",
    "tests.test_build_nn(build_nn)"
   ]
  },
  {
   "cell_type": "markdown",
   "metadata": {
    "deletable": true,
    "editable": true
   },
   "source": [
    "### Batches\n",
    "Implement `get_batches` to create batches of input and targets using `int_text`.  The batches should be a Numpy array with the shape `(number of batches, 2, batch size, sequence length)`. Each batch contains two elements:\n",
    "- The first element is a single batch of **input** with the shape `[batch size, sequence length]`\n",
    "- The second element is a single batch of **targets** with the shape `[batch size, sequence length]`\n",
    "\n",
    "If you can't fill the last batch with enough data, drop the last batch.\n",
    "\n",
    "For exmple, `get_batches([1, 2, 3, 4, 5, 6, 7, 8, 9, 10, 11, 12, 13, 14, 15], 2, 3)` would return a Numpy array of the following:\n",
    "```\n",
    "[\n",
    "  # First Batch\n",
    "  [\n",
    "    # Batch of Input\n",
    "    [[ 1  2  3], [ 7  8  9]],\n",
    "    # Batch of targets\n",
    "    [[ 2  3  4], [ 8  9 10]]\n",
    "  ],\n",
    " \n",
    "  # Second Batch\n",
    "  [\n",
    "    # Batch of Input\n",
    "    [[ 4  5  6], [10 11 12]],\n",
    "    # Batch of targets\n",
    "    [[ 5  6  7], [11 12 13]]\n",
    "  ]\n",
    "]\n",
    "```"
   ]
  },
  {
   "cell_type": "code",
   "execution_count": 24,
   "metadata": {
    "collapsed": false,
    "deletable": true,
    "editable": true
   },
   "outputs": [
    {
     "name": "stdout",
     "output_type": "stream",
     "text": [
      "Tests Passed\n"
     ]
    }
   ],
   "source": [
    "def get_batches(int_text, batch_size, seq_length):\n",
    "    \"\"\"\n",
    "    Return batches of input and target\n",
    "    :param int_text: Text with the words replaced by their ids\n",
    "    :param batch_size: The size of batch\n",
    "    :param seq_length: The length of sequence\n",
    "    :return: Batches as a Numpy array\n",
    "    \"\"\"\n",
    "    numBatches = int(len(int_text)/(batch_size*seq_length))\n",
    "    out = np.zeros((numBatches,2,batch_size,seq_length))\n",
    "    for i in range(numBatches):\n",
    "        batchinput = []\n",
    "        batchtarget = []\n",
    "        for j in range(i*seq_length,i*seq_length + batch_size):\n",
    "            batchinput.append(int_text[j:j+seq_length])\n",
    "            batchtarget.append(int_text[j+1:j+seq_length+1])\n",
    "\n",
    "        out[i][0] = np.asarray(batchinput)\n",
    "        out[i][1] = np.asarray(batchtarget)\n",
    "    return out\n",
    "        \n",
    "\n",
    "\n",
    "\"\"\"\n",
    "DON'T MODIFY ANYTHING IN THIS CELL THAT IS BELOW THIS LINE\n",
    "\"\"\"\n",
    "tests.test_get_batches(get_batches)"
   ]
  },
  {
   "cell_type": "markdown",
   "metadata": {
    "deletable": true,
    "editable": true
   },
   "source": [
    "## Neural Network Training\n",
    "### Hyperparameters\n",
    "Tune the following parameters:\n",
    "\n",
    "- Set `num_epochs` to the number of epochs.\n",
    "- Set `batch_size` to the batch size.\n",
    "- Set `rnn_size` to the size of the RNNs.\n",
    "- Set `seq_length` to the length of sequence.\n",
    "- Set `learning_rate` to the learning rate.\n",
    "- Set `show_every_n_batches` to the number of batches the neural network should print progress."
   ]
  },
  {
   "cell_type": "code",
   "execution_count": 31,
   "metadata": {
    "collapsed": true,
    "deletable": true,
    "editable": true
   },
   "outputs": [],
   "source": [
    "# Number of Epochs\n",
    "num_epochs = 300\n",
    "# Batch Size\n",
    "batch_size = 512\n",
    "# RNN Size\n",
    "rnn_size = 200\n",
    "# Sequence Length\n",
    "seq_length = 10\n",
    "# Learning Rate\n",
    "learning_rate = 0.005\n",
    "# Show stats for every n number of batches\n",
    "show_every_n_batches = 10\n",
    "\n",
    "\"\"\"\n",
    "DON'T MODIFY ANYTHING IN THIS CELL THAT IS BELOW THIS LINE\n",
    "\"\"\"\n",
    "save_dir = './save'"
   ]
  },
  {
   "cell_type": "markdown",
   "metadata": {
    "deletable": true,
    "editable": true
   },
   "source": [
    "### Build the Graph\n",
    "Build the graph using the neural network you implemented."
   ]
  },
  {
   "cell_type": "code",
   "execution_count": 32,
   "metadata": {
    "collapsed": false,
    "deletable": true,
    "editable": true
   },
   "outputs": [],
   "source": [
    "\"\"\"\n",
    "DON'T MODIFY ANYTHING IN THIS CELL\n",
    "\"\"\"\n",
    "from tensorflow.contrib import seq2seq\n",
    "\n",
    "train_graph = tf.Graph()\n",
    "with train_graph.as_default():\n",
    "    vocab_size = len(int_to_vocab)\n",
    "    input_text, targets, lr = get_inputs()\n",
    "    input_data_shape = tf.shape(input_text)\n",
    "    cell, initial_state = get_init_cell(input_data_shape[0], rnn_size)\n",
    "    logits, final_state = build_nn(cell, rnn_size, input_text, vocab_size)\n",
    "\n",
    "    # Probabilities for generating words\n",
    "    probs = tf.nn.softmax(logits, name='probs')\n",
    "\n",
    "    # Loss function\n",
    "    cost = seq2seq.sequence_loss(\n",
    "        logits,\n",
    "        targets,\n",
    "        tf.ones([input_data_shape[0], input_data_shape[1]]))\n",
    "\n",
    "    # Optimizer\n",
    "    optimizer = tf.train.AdamOptimizer(lr)\n",
    "\n",
    "    # Gradient Clipping\n",
    "    gradients = optimizer.compute_gradients(cost)\n",
    "    capped_gradients = [(tf.clip_by_value(grad, -1., 1.), var) for grad, var in gradients]\n",
    "    train_op = optimizer.apply_gradients(capped_gradients)\n",
    "    \n",
    "#with tf.Session(graph=train_graph) as sess:\n",
    " #   sess.run(tf.global_variables_initializer())\n",
    "  #  file_writer = tf.summary.FileWriter('./logs/1', sess.graph)"
   ]
  },
  {
   "cell_type": "markdown",
   "metadata": {
    "deletable": true,
    "editable": true
   },
   "source": [
    "## Train\n",
    "Train the neural network on the preprocessed data.  If you have a hard time getting a good loss, check the [forms](https://discussions.udacity.com/) to see if anyone is having the same problem."
   ]
  },
  {
   "cell_type": "code",
   "execution_count": 33,
   "metadata": {
    "collapsed": false,
    "deletable": true,
    "editable": true
   },
   "outputs": [
    {
     "name": "stdout",
     "output_type": "stream",
     "text": [
      "Epoch   0 Batch    0/13   train_loss = 8.825\n",
      "Epoch   0 Batch   10/13   train_loss = 5.531\n",
      "Epoch   1 Batch    7/13   train_loss = 5.284\n",
      "Epoch   2 Batch    4/13   train_loss = 5.185\n",
      "Epoch   3 Batch    1/13   train_loss = 5.209\n",
      "Epoch   3 Batch   11/13   train_loss = 5.302\n",
      "Epoch   4 Batch    8/13   train_loss = 5.207\n",
      "Epoch   5 Batch    5/13   train_loss = 5.153\n",
      "Epoch   6 Batch    2/13   train_loss = 5.141\n",
      "Epoch   6 Batch   12/13   train_loss = 5.292\n",
      "Epoch   7 Batch    9/13   train_loss = 5.184\n",
      "Epoch   8 Batch    6/13   train_loss = 5.155\n",
      "Epoch   9 Batch    3/13   train_loss = 5.120\n",
      "Epoch  10 Batch    0/13   train_loss = 5.192\n",
      "Epoch  10 Batch   10/13   train_loss = 5.225\n",
      "Epoch  11 Batch    7/13   train_loss = 5.146\n",
      "Epoch  12 Batch    4/13   train_loss = 5.095\n",
      "Epoch  13 Batch    1/13   train_loss = 5.143\n",
      "Epoch  13 Batch   11/13   train_loss = 5.245\n",
      "Epoch  14 Batch    8/13   train_loss = 5.160\n",
      "Epoch  15 Batch    5/13   train_loss = 5.112\n",
      "Epoch  16 Batch    2/13   train_loss = 5.095\n",
      "Epoch  16 Batch   12/13   train_loss = 5.250\n",
      "Epoch  17 Batch    9/13   train_loss = 5.157\n",
      "Epoch  18 Batch    6/13   train_loss = 5.122\n",
      "Epoch  19 Batch    3/13   train_loss = 5.083\n",
      "Epoch  20 Batch    0/13   train_loss = 5.162\n",
      "Epoch  20 Batch   10/13   train_loss = 5.201\n",
      "Epoch  21 Batch    7/13   train_loss = 5.122\n",
      "Epoch  22 Batch    4/13   train_loss = 5.071\n",
      "Epoch  23 Batch    1/13   train_loss = 5.116\n",
      "Epoch  23 Batch   11/13   train_loss = 5.224\n",
      "Epoch  24 Batch    8/13   train_loss = 5.134\n",
      "Epoch  25 Batch    5/13   train_loss = 5.084\n",
      "Epoch  26 Batch    2/13   train_loss = 5.050\n",
      "Epoch  26 Batch   12/13   train_loss = 5.112\n",
      "Epoch  27 Batch    9/13   train_loss = 4.838\n",
      "Epoch  28 Batch    6/13   train_loss = 4.653\n",
      "Epoch  29 Batch    3/13   train_loss = 4.539\n",
      "Epoch  30 Batch    0/13   train_loss = 4.491\n",
      "Epoch  30 Batch   10/13   train_loss = 4.391\n",
      "Epoch  31 Batch    7/13   train_loss = 4.196\n",
      "Epoch  32 Batch    4/13   train_loss = 4.051\n",
      "Epoch  33 Batch    1/13   train_loss = 4.010\n",
      "Epoch  33 Batch   11/13   train_loss = 4.071\n",
      "Epoch  34 Batch    8/13   train_loss = 3.873\n",
      "Epoch  35 Batch    5/13   train_loss = 3.730\n",
      "Epoch  36 Batch    2/13   train_loss = 3.670\n",
      "Epoch  36 Batch   12/13   train_loss = 3.875\n",
      "Epoch  37 Batch    9/13   train_loss = 3.688\n",
      "Epoch  38 Batch    6/13   train_loss = 3.552\n",
      "Epoch  39 Batch    3/13   train_loss = 3.459\n",
      "Epoch  40 Batch    0/13   train_loss = 3.529\n",
      "Epoch  40 Batch   10/13   train_loss = 3.570\n",
      "Epoch  41 Batch    7/13   train_loss = 3.407\n",
      "Epoch  42 Batch    4/13   train_loss = 3.284\n",
      "Epoch  43 Batch    1/13   train_loss = 3.326\n",
      "Epoch  43 Batch   11/13   train_loss = 3.516\n",
      "Epoch  44 Batch    8/13   train_loss = 3.302\n",
      "Epoch  45 Batch    5/13   train_loss = 3.210\n",
      "Epoch  46 Batch    2/13   train_loss = 3.181\n",
      "Epoch  46 Batch   12/13   train_loss = 3.432\n",
      "Epoch  47 Batch    9/13   train_loss = 3.215\n",
      "Epoch  48 Batch    6/13   train_loss = 3.110\n",
      "Epoch  49 Batch    3/13   train_loss = 3.027\n",
      "Epoch  50 Batch    0/13   train_loss = 3.117\n",
      "Epoch  50 Batch   10/13   train_loss = 3.229\n",
      "Epoch  51 Batch    7/13   train_loss = 3.027\n",
      "Epoch  52 Batch    4/13   train_loss = 2.909\n",
      "Epoch  53 Batch    1/13   train_loss = 2.961\n",
      "Epoch  53 Batch   11/13   train_loss = 3.177\n",
      "Epoch  54 Batch    8/13   train_loss = 2.948\n",
      "Epoch  55 Batch    5/13   train_loss = 2.843\n",
      "Epoch  56 Batch    2/13   train_loss = 2.823\n",
      "Epoch  56 Batch   12/13   train_loss = 3.144\n",
      "Epoch  57 Batch    9/13   train_loss = 2.905\n",
      "Epoch  58 Batch    6/13   train_loss = 2.792\n",
      "Epoch  59 Batch    3/13   train_loss = 2.759\n",
      "Epoch  60 Batch    0/13   train_loss = 2.850\n",
      "Epoch  60 Batch   10/13   train_loss = 2.925\n",
      "Epoch  61 Batch    7/13   train_loss = 2.730\n",
      "Epoch  62 Batch    4/13   train_loss = 2.628\n",
      "Epoch  63 Batch    1/13   train_loss = 2.658\n",
      "Epoch  63 Batch   11/13   train_loss = 2.927\n",
      "Epoch  64 Batch    8/13   train_loss = 2.687\n",
      "Epoch  65 Batch    5/13   train_loss = 2.568\n",
      "Epoch  66 Batch    2/13   train_loss = 2.533\n",
      "Epoch  66 Batch   12/13   train_loss = 2.884\n",
      "Epoch  67 Batch    9/13   train_loss = 2.654\n",
      "Epoch  68 Batch    6/13   train_loss = 2.524\n",
      "Epoch  69 Batch    3/13   train_loss = 2.429\n",
      "Epoch  70 Batch    0/13   train_loss = 2.572\n",
      "Epoch  70 Batch   10/13   train_loss = 2.657\n",
      "Epoch  71 Batch    7/13   train_loss = 2.488\n",
      "Epoch  72 Batch    4/13   train_loss = 2.343\n",
      "Epoch  73 Batch    1/13   train_loss = 2.421\n",
      "Epoch  73 Batch   11/13   train_loss = 2.676\n",
      "Epoch  74 Batch    8/13   train_loss = 2.385\n",
      "Epoch  75 Batch    5/13   train_loss = 2.267\n",
      "Epoch  76 Batch    2/13   train_loss = 2.216\n",
      "Epoch  76 Batch   12/13   train_loss = 2.607\n",
      "Epoch  77 Batch    9/13   train_loss = 2.326\n",
      "Epoch  78 Batch    6/13   train_loss = 2.194\n",
      "Epoch  79 Batch    3/13   train_loss = 2.026\n",
      "Epoch  80 Batch    0/13   train_loss = 2.192\n",
      "Epoch  80 Batch   10/13   train_loss = 2.278\n",
      "Epoch  81 Batch    7/13   train_loss = 2.039\n",
      "Epoch  82 Batch    4/13   train_loss = 1.877\n",
      "Epoch  83 Batch    1/13   train_loss = 1.909\n",
      "Epoch  83 Batch   11/13   train_loss = 2.214\n",
      "Epoch  84 Batch    8/13   train_loss = 1.941\n",
      "Epoch  85 Batch    5/13   train_loss = 1.800\n",
      "Epoch  86 Batch    2/13   train_loss = 1.731\n",
      "Epoch  86 Batch   12/13   train_loss = 2.136\n",
      "Epoch  87 Batch    9/13   train_loss = 1.868\n",
      "Epoch  88 Batch    6/13   train_loss = 1.717\n",
      "Epoch  89 Batch    3/13   train_loss = 1.583\n",
      "Epoch  90 Batch    0/13   train_loss = 1.712\n",
      "Epoch  90 Batch   10/13   train_loss = 1.832\n",
      "Epoch  91 Batch    7/13   train_loss = 1.620\n",
      "Epoch  92 Batch    4/13   train_loss = 1.481\n",
      "Epoch  93 Batch    1/13   train_loss = 1.526\n",
      "Epoch  93 Batch   11/13   train_loss = 1.812\n",
      "Epoch  94 Batch    8/13   train_loss = 1.538\n",
      "Epoch  95 Batch    5/13   train_loss = 1.398\n",
      "Epoch  96 Batch    2/13   train_loss = 1.320\n",
      "Epoch  96 Batch   12/13   train_loss = 1.754\n",
      "Epoch  97 Batch    9/13   train_loss = 1.472\n",
      "Epoch  98 Batch    6/13   train_loss = 1.314\n",
      "Epoch  99 Batch    3/13   train_loss = 1.176\n",
      "Epoch 100 Batch    0/13   train_loss = 1.321\n",
      "Epoch 100 Batch   10/13   train_loss = 1.450\n",
      "Epoch 101 Batch    7/13   train_loss = 1.207\n",
      "Epoch 102 Batch    4/13   train_loss = 1.077\n",
      "Epoch 103 Batch    1/13   train_loss = 1.112\n",
      "Epoch 103 Batch   11/13   train_loss = 1.399\n",
      "Epoch 104 Batch    8/13   train_loss = 1.159\n",
      "Epoch 105 Batch    5/13   train_loss = 1.030\n",
      "Epoch 106 Batch    2/13   train_loss = 0.962\n",
      "Epoch 106 Batch   12/13   train_loss = 1.394\n",
      "Epoch 107 Batch    9/13   train_loss = 1.117\n",
      "Epoch 108 Batch    6/13   train_loss = 0.974\n",
      "Epoch 109 Batch    3/13   train_loss = 0.855\n",
      "Epoch 110 Batch    0/13   train_loss = 0.963\n",
      "Epoch 110 Batch   10/13   train_loss = 1.100\n",
      "Epoch 111 Batch    7/13   train_loss = 0.917\n",
      "Epoch 112 Batch    4/13   train_loss = 0.781\n",
      "Epoch 113 Batch    1/13   train_loss = 0.834\n",
      "Epoch 113 Batch   11/13   train_loss = 1.131\n",
      "Epoch 114 Batch    8/13   train_loss = 0.917\n",
      "Epoch 115 Batch    5/13   train_loss = 0.786\n",
      "Epoch 116 Batch    2/13   train_loss = 0.722\n",
      "Epoch 116 Batch   12/13   train_loss = 1.148\n",
      "Epoch 117 Batch    9/13   train_loss = 0.916\n",
      "Epoch 118 Batch    6/13   train_loss = 0.805\n",
      "Epoch 119 Batch    3/13   train_loss = 0.685\n",
      "Epoch 120 Batch    0/13   train_loss = 0.798\n",
      "Epoch 120 Batch   10/13   train_loss = 0.961\n",
      "Epoch 121 Batch    7/13   train_loss = 0.789\n",
      "Epoch 122 Batch    4/13   train_loss = 0.662\n",
      "Epoch 123 Batch    1/13   train_loss = 0.715\n",
      "Epoch 123 Batch   11/13   train_loss = 1.005\n",
      "Epoch 124 Batch    8/13   train_loss = 0.810\n",
      "Epoch 125 Batch    5/13   train_loss = 0.685\n",
      "Epoch 126 Batch    2/13   train_loss = 0.627\n",
      "Epoch 126 Batch   12/13   train_loss = 1.042\n",
      "Epoch 127 Batch    9/13   train_loss = 0.820\n",
      "Epoch 128 Batch    6/13   train_loss = 0.686\n",
      "Epoch 129 Batch    3/13   train_loss = 0.582\n",
      "Epoch 130 Batch    0/13   train_loss = 0.649\n",
      "Epoch 130 Batch   10/13   train_loss = 0.844\n",
      "Epoch 131 Batch    7/13   train_loss = 0.661\n",
      "Epoch 132 Batch    4/13   train_loss = 0.537\n",
      "Epoch 133 Batch    1/13   train_loss = 0.563\n",
      "Epoch 133 Batch   11/13   train_loss = 0.892\n",
      "Epoch 134 Batch    8/13   train_loss = 0.702\n",
      "Epoch 135 Batch    5/13   train_loss = 0.580\n",
      "Epoch 136 Batch    2/13   train_loss = 0.520\n",
      "Epoch 136 Batch   12/13   train_loss = 0.927\n",
      "Epoch 137 Batch    9/13   train_loss = 0.725\n",
      "Epoch 138 Batch    6/13   train_loss = 0.614\n",
      "Epoch 139 Batch    3/13   train_loss = 0.508\n",
      "Epoch 140 Batch    0/13   train_loss = 0.595\n",
      "Epoch 140 Batch   10/13   train_loss = 0.801\n",
      "Epoch 141 Batch    7/13   train_loss = 0.637\n",
      "Epoch 142 Batch    4/13   train_loss = 0.496\n",
      "Epoch 143 Batch    1/13   train_loss = 0.527\n",
      "Epoch 143 Batch   11/13   train_loss = 0.860\n",
      "Epoch 144 Batch    8/13   train_loss = 0.671\n",
      "Epoch 145 Batch    5/13   train_loss = 0.544\n",
      "Epoch 146 Batch    2/13   train_loss = 0.487\n",
      "Epoch 146 Batch   12/13   train_loss = 0.906\n",
      "Epoch 147 Batch    9/13   train_loss = 0.713\n",
      "Epoch 148 Batch    6/13   train_loss = 0.593\n",
      "Epoch 149 Batch    3/13   train_loss = 0.488\n",
      "Epoch 150 Batch    0/13   train_loss = 0.578\n",
      "Epoch 150 Batch   10/13   train_loss = 0.774\n",
      "Epoch 151 Batch    7/13   train_loss = 0.617\n",
      "Epoch 152 Batch    4/13   train_loss = 0.484\n",
      "Epoch 153 Batch    1/13   train_loss = 0.504\n",
      "Epoch 153 Batch   11/13   train_loss = 0.843\n",
      "Epoch 154 Batch    8/13   train_loss = 0.661\n",
      "Epoch 155 Batch    5/13   train_loss = 0.532\n",
      "Epoch 156 Batch    2/13   train_loss = 0.482\n",
      "Epoch 156 Batch   12/13   train_loss = 0.882\n",
      "Epoch 157 Batch    9/13   train_loss = 0.702\n",
      "Epoch 158 Batch    6/13   train_loss = 0.577\n",
      "Epoch 159 Batch    3/13   train_loss = 0.480\n",
      "Epoch 160 Batch    0/13   train_loss = 0.559\n",
      "Epoch 160 Batch   10/13   train_loss = 0.771\n",
      "Epoch 161 Batch    7/13   train_loss = 0.605\n",
      "Epoch 162 Batch    4/13   train_loss = 0.472\n",
      "Epoch 163 Batch    1/13   train_loss = 0.491\n",
      "Epoch 163 Batch   11/13   train_loss = 0.829\n",
      "Epoch 164 Batch    8/13   train_loss = 0.631\n",
      "Epoch 165 Batch    5/13   train_loss = 0.513\n",
      "Epoch 166 Batch    2/13   train_loss = 0.452\n",
      "Epoch 166 Batch   12/13   train_loss = 0.859\n",
      "Epoch 167 Batch    9/13   train_loss = 0.668\n",
      "Epoch 168 Batch    6/13   train_loss = 0.558\n",
      "Epoch 169 Batch    3/13   train_loss = 0.457\n",
      "Epoch 170 Batch    0/13   train_loss = 0.549\n",
      "Epoch 170 Batch   10/13   train_loss = 0.738\n",
      "Epoch 171 Batch    7/13   train_loss = 0.578\n",
      "Epoch 172 Batch    4/13   train_loss = 0.450\n",
      "Epoch 173 Batch    1/13   train_loss = 0.481\n",
      "Epoch 173 Batch   11/13   train_loss = 0.791\n",
      "Epoch 174 Batch    8/13   train_loss = 0.622\n",
      "Epoch 175 Batch    5/13   train_loss = 0.501\n",
      "Epoch 176 Batch    2/13   train_loss = 0.446\n",
      "Epoch 176 Batch   12/13   train_loss = 0.836\n",
      "Epoch 177 Batch    9/13   train_loss = 0.650\n",
      "Epoch 178 Batch    6/13   train_loss = 0.553\n",
      "Epoch 179 Batch    3/13   train_loss = 0.448\n",
      "Epoch 180 Batch    0/13   train_loss = 0.543\n",
      "Epoch 180 Batch   10/13   train_loss = 0.719\n",
      "Epoch 181 Batch    7/13   train_loss = 0.577\n",
      "Epoch 182 Batch    4/13   train_loss = 0.442\n",
      "Epoch 183 Batch    1/13   train_loss = 0.481\n",
      "Epoch 183 Batch   11/13   train_loss = 0.780\n",
      "Epoch 184 Batch    8/13   train_loss = 0.620\n",
      "Epoch 185 Batch    5/13   train_loss = 0.499\n",
      "Epoch 186 Batch    2/13   train_loss = 0.433\n",
      "Epoch 186 Batch   12/13   train_loss = 0.825\n",
      "Epoch 187 Batch    9/13   train_loss = 0.647\n",
      "Epoch 188 Batch    6/13   train_loss = 0.549\n",
      "Epoch 189 Batch    3/13   train_loss = 0.444\n",
      "Epoch 190 Batch    0/13   train_loss = 0.537\n",
      "Epoch 190 Batch   10/13   train_loss = 0.725\n",
      "Epoch 191 Batch    7/13   train_loss = 0.574\n",
      "Epoch 192 Batch    4/13   train_loss = 0.439\n",
      "Epoch 193 Batch    1/13   train_loss = 0.473\n",
      "Epoch 193 Batch   11/13   train_loss = 0.777\n",
      "Epoch 194 Batch    8/13   train_loss = 0.615\n",
      "Epoch 195 Batch    5/13   train_loss = 0.497\n",
      "Epoch 196 Batch    2/13   train_loss = 0.430\n",
      "Epoch 196 Batch   12/13   train_loss = 0.815\n",
      "Epoch 197 Batch    9/13   train_loss = 0.649\n",
      "Epoch 198 Batch    6/13   train_loss = 0.538\n",
      "Epoch 199 Batch    3/13   train_loss = 0.441\n",
      "Epoch 200 Batch    0/13   train_loss = 0.532\n",
      "Epoch 200 Batch   10/13   train_loss = 0.717\n",
      "Epoch 201 Batch    7/13   train_loss = 0.569\n",
      "Epoch 202 Batch    4/13   train_loss = 0.436\n",
      "Epoch 203 Batch    1/13   train_loss = 0.468\n",
      "Epoch 203 Batch   11/13   train_loss = 0.773\n",
      "Epoch 204 Batch    8/13   train_loss = 0.611\n",
      "Epoch 205 Batch    5/13   train_loss = 0.492\n",
      "Epoch 206 Batch    2/13   train_loss = 0.431\n",
      "Epoch 206 Batch   12/13   train_loss = 0.812\n",
      "Epoch 207 Batch    9/13   train_loss = 0.647\n",
      "Epoch 208 Batch    6/13   train_loss = 0.538\n",
      "Epoch 209 Batch    3/13   train_loss = 0.432\n",
      "Epoch 210 Batch    0/13   train_loss = 0.528\n",
      "Epoch 210 Batch   10/13   train_loss = 0.715\n",
      "Epoch 211 Batch    7/13   train_loss = 0.563\n",
      "Epoch 212 Batch    4/13   train_loss = 0.434\n",
      "Epoch 213 Batch    1/13   train_loss = 0.468\n",
      "Epoch 213 Batch   11/13   train_loss = 0.770\n",
      "Epoch 214 Batch    8/13   train_loss = 0.611\n",
      "Epoch 215 Batch    5/13   train_loss = 0.486\n",
      "Epoch 216 Batch    2/13   train_loss = 0.430\n",
      "Epoch 216 Batch   12/13   train_loss = 0.812\n",
      "Epoch 217 Batch    9/13   train_loss = 0.645\n",
      "Epoch 218 Batch    6/13   train_loss = 0.538\n",
      "Epoch 219 Batch    3/13   train_loss = 0.435\n",
      "Epoch 220 Batch    0/13   train_loss = 0.532\n",
      "Epoch 220 Batch   10/13   train_loss = 0.710\n",
      "Epoch 221 Batch    7/13   train_loss = 0.562\n",
      "Epoch 222 Batch    4/13   train_loss = 0.434\n",
      "Epoch 223 Batch    1/13   train_loss = 0.468\n",
      "Epoch 223 Batch   11/13   train_loss = 0.767\n",
      "Epoch 224 Batch    8/13   train_loss = 0.610\n",
      "Epoch 225 Batch    5/13   train_loss = 0.486\n",
      "Epoch 226 Batch    2/13   train_loss = 0.425\n",
      "Epoch 226 Batch   12/13   train_loss = 0.810\n",
      "Epoch 227 Batch    9/13   train_loss = 0.638\n",
      "Epoch 228 Batch    6/13   train_loss = 0.537\n",
      "Epoch 229 Batch    3/13   train_loss = 0.435\n",
      "Epoch 230 Batch    0/13   train_loss = 0.524\n",
      "Epoch 230 Batch   10/13   train_loss = 0.709\n",
      "Epoch 231 Batch    7/13   train_loss = 0.564\n",
      "Epoch 232 Batch    4/13   train_loss = 0.428\n",
      "Epoch 233 Batch    1/13   train_loss = 0.462\n",
      "Epoch 233 Batch   11/13   train_loss = 0.765\n",
      "Epoch 234 Batch    8/13   train_loss = 0.606\n",
      "Epoch 235 Batch    5/13   train_loss = 0.481\n",
      "Epoch 236 Batch    2/13   train_loss = 0.419\n",
      "Epoch 236 Batch   12/13   train_loss = 0.811\n",
      "Epoch 237 Batch    9/13   train_loss = 0.638\n",
      "Epoch 238 Batch    6/13   train_loss = 0.537\n",
      "Epoch 239 Batch    3/13   train_loss = 0.428\n",
      "Epoch 240 Batch    0/13   train_loss = 0.525\n",
      "Epoch 240 Batch   10/13   train_loss = 0.710\n",
      "Epoch 241 Batch    7/13   train_loss = 0.560\n",
      "Epoch 242 Batch    4/13   train_loss = 0.428\n",
      "Epoch 243 Batch    1/13   train_loss = 0.459\n",
      "Epoch 243 Batch   11/13   train_loss = 0.762\n",
      "Epoch 244 Batch    8/13   train_loss = 0.605\n",
      "Epoch 245 Batch    5/13   train_loss = 0.482\n",
      "Epoch 246 Batch    2/13   train_loss = 0.422\n",
      "Epoch 246 Batch   12/13   train_loss = 0.807\n",
      "Epoch 247 Batch    9/13   train_loss = 0.634\n",
      "Epoch 248 Batch    6/13   train_loss = 0.534\n",
      "Epoch 249 Batch    3/13   train_loss = 0.426\n",
      "Epoch 250 Batch    0/13   train_loss = 0.521\n",
      "Epoch 250 Batch   10/13   train_loss = 0.705\n",
      "Epoch 251 Batch    7/13   train_loss = 0.557\n",
      "Epoch 252 Batch    4/13   train_loss = 0.426\n",
      "Epoch 253 Batch    1/13   train_loss = 0.459\n",
      "Epoch 253 Batch   11/13   train_loss = 0.759\n",
      "Epoch 254 Batch    8/13   train_loss = 0.599\n",
      "Epoch 255 Batch    5/13   train_loss = 0.482\n",
      "Epoch 256 Batch    2/13   train_loss = 0.420\n",
      "Epoch 256 Batch   12/13   train_loss = 0.804\n",
      "Epoch 257 Batch    9/13   train_loss = 0.636\n",
      "Epoch 258 Batch    6/13   train_loss = 0.533\n",
      "Epoch 259 Batch    3/13   train_loss = 0.430\n",
      "Epoch 260 Batch    0/13   train_loss = 0.521\n",
      "Epoch 260 Batch   10/13   train_loss = 0.704\n",
      "Epoch 261 Batch    7/13   train_loss = 0.557\n",
      "Epoch 262 Batch    4/13   train_loss = 0.426\n",
      "Epoch 263 Batch    1/13   train_loss = 0.456\n",
      "Epoch 263 Batch   11/13   train_loss = 0.762\n",
      "Epoch 264 Batch    8/13   train_loss = 0.604\n",
      "Epoch 265 Batch    5/13   train_loss = 0.482\n",
      "Epoch 266 Batch    2/13   train_loss = 0.419\n",
      "Epoch 266 Batch   12/13   train_loss = 0.799\n",
      "Epoch 267 Batch    9/13   train_loss = 0.632\n",
      "Epoch 268 Batch    6/13   train_loss = 0.536\n",
      "Epoch 269 Batch    3/13   train_loss = 0.426\n",
      "Epoch 270 Batch    0/13   train_loss = 0.518\n",
      "Epoch 270 Batch   10/13   train_loss = 0.704\n",
      "Epoch 271 Batch    7/13   train_loss = 0.555\n",
      "Epoch 272 Batch    4/13   train_loss = 0.422\n",
      "Epoch 273 Batch    1/13   train_loss = 0.458\n",
      "Epoch 273 Batch   11/13   train_loss = 0.759\n",
      "Epoch 274 Batch    8/13   train_loss = 0.598\n",
      "Epoch 275 Batch    5/13   train_loss = 0.478\n",
      "Epoch 276 Batch    2/13   train_loss = 0.419\n",
      "Epoch 276 Batch   12/13   train_loss = 0.803\n",
      "Epoch 277 Batch    9/13   train_loss = 0.632\n",
      "Epoch 278 Batch    6/13   train_loss = 0.531\n",
      "Epoch 279 Batch    3/13   train_loss = 0.426\n",
      "Epoch 280 Batch    0/13   train_loss = 0.516\n",
      "Epoch 280 Batch   10/13   train_loss = 0.702\n",
      "Epoch 281 Batch    7/13   train_loss = 0.555\n",
      "Epoch 282 Batch    4/13   train_loss = 0.423\n",
      "Epoch 283 Batch    1/13   train_loss = 0.457\n",
      "Epoch 283 Batch   11/13   train_loss = 0.761\n",
      "Epoch 284 Batch    8/13   train_loss = 0.600\n",
      "Epoch 285 Batch    5/13   train_loss = 0.480\n",
      "Epoch 286 Batch    2/13   train_loss = 0.417\n",
      "Epoch 286 Batch   12/13   train_loss = 0.801\n",
      "Epoch 287 Batch    9/13   train_loss = 0.635\n",
      "Epoch 288 Batch    6/13   train_loss = 0.533\n",
      "Epoch 289 Batch    3/13   train_loss = 0.425\n",
      "Epoch 290 Batch    0/13   train_loss = 0.517\n",
      "Epoch 290 Batch   10/13   train_loss = 0.702\n",
      "Epoch 291 Batch    7/13   train_loss = 0.554\n",
      "Epoch 292 Batch    4/13   train_loss = 0.425\n",
      "Epoch 293 Batch    1/13   train_loss = 0.452\n",
      "Epoch 293 Batch   11/13   train_loss = 0.758\n",
      "Epoch 294 Batch    8/13   train_loss = 0.602\n",
      "Epoch 295 Batch    5/13   train_loss = 0.477\n",
      "Epoch 296 Batch    2/13   train_loss = 0.416\n",
      "Epoch 296 Batch   12/13   train_loss = 0.798\n",
      "Epoch 297 Batch    9/13   train_loss = 0.632\n",
      "Epoch 298 Batch    6/13   train_loss = 0.529\n",
      "Epoch 299 Batch    3/13   train_loss = 0.423\n",
      "Model Trained and Saved\n"
     ]
    }
   ],
   "source": [
    "\"\"\"\n",
    "DON'T MODIFY ANYTHING IN THIS CELL\n",
    "\"\"\"\n",
    "batches = get_batches(int_text, batch_size, seq_length)\n",
    "\n",
    "with tf.Session(graph=train_graph) as sess:\n",
    "    sess.run(tf.global_variables_initializer())\n",
    "\n",
    "    for epoch_i in range(num_epochs):\n",
    "        state = sess.run(initial_state, {input_text: batches[0][0]})\n",
    "\n",
    "        for batch_i, (x, y) in enumerate(batches):\n",
    "            feed = {\n",
    "                input_text: x,\n",
    "                targets: y,\n",
    "                initial_state: state,\n",
    "                lr: learning_rate}\n",
    "            train_loss, state, _ = sess.run([cost, final_state, train_op], feed)\n",
    "\n",
    "            # Show every <show_every_n_batches> batches\n",
    "            if (epoch_i * len(batches) + batch_i) % show_every_n_batches == 0:\n",
    "                print('Epoch {:>3} Batch {:>4}/{}   train_loss = {:.3f}'.format(\n",
    "                    epoch_i,\n",
    "                    batch_i,\n",
    "                    len(batches),\n",
    "                    train_loss))\n",
    "\n",
    "    # Save Model\n",
    "    saver = tf.train.Saver()\n",
    "    saver.save(sess, save_dir)\n",
    "    print('Model Trained and Saved')"
   ]
  },
  {
   "cell_type": "markdown",
   "metadata": {
    "deletable": true,
    "editable": true
   },
   "source": [
    "## Save Parameters\n",
    "Save `seq_length` and `save_dir` for generating a new TV script."
   ]
  },
  {
   "cell_type": "code",
   "execution_count": 34,
   "metadata": {
    "collapsed": false,
    "deletable": true,
    "editable": true
   },
   "outputs": [],
   "source": [
    "\"\"\"\n",
    "DON'T MODIFY ANYTHING IN THIS CELL\n",
    "\"\"\"\n",
    "# Save parameters for checkpoint\n",
    "helper.save_params((seq_length, save_dir))"
   ]
  },
  {
   "cell_type": "markdown",
   "metadata": {
    "deletable": true,
    "editable": true
   },
   "source": [
    "# Checkpoint"
   ]
  },
  {
   "cell_type": "code",
   "execution_count": 35,
   "metadata": {
    "collapsed": false,
    "deletable": true,
    "editable": true
   },
   "outputs": [],
   "source": [
    "\"\"\"\n",
    "DON'T MODIFY ANYTHING IN THIS CELL\n",
    "\"\"\"\n",
    "import tensorflow as tf\n",
    "import numpy as np\n",
    "import helper\n",
    "import problem_unittests as tests\n",
    "\n",
    "_, vocab_to_int, int_to_vocab, token_dict = helper.load_preprocess()\n",
    "seq_length, load_dir = helper.load_params()"
   ]
  },
  {
   "cell_type": "markdown",
   "metadata": {
    "deletable": true,
    "editable": true
   },
   "source": [
    "## Implement Generate Functions\n",
    "### Get Tensors\n",
    "Get tensors from `loaded_graph` using the function [`get_tensor_by_name()`](https://www.tensorflow.org/api_docs/python/tf/Graph#get_tensor_by_name).  Get the tensors using the following names:\n",
    "- \"input:0\"\n",
    "- \"initial_state:0\"\n",
    "- \"final_state:0\"\n",
    "- \"probs:0\"\n",
    "\n",
    "Return the tensors in the following tuple `(InputTensor, InitialStateTensor, FinalStateTensor, ProbsTensor)` "
   ]
  },
  {
   "cell_type": "code",
   "execution_count": 39,
   "metadata": {
    "collapsed": false,
    "deletable": true,
    "editable": true
   },
   "outputs": [
    {
     "name": "stdout",
     "output_type": "stream",
     "text": [
      "Tests Passed\n"
     ]
    }
   ],
   "source": [
    "def get_tensors(loaded_graph):\n",
    "    \"\"\"\n",
    "    Get input, initial state, final state, and probabilities tensor from <loaded_graph>\n",
    "    :param loaded_graph: TensorFlow graph loaded from file\n",
    "    :return: Tuple (InputTensor, InitialStateTensor, FinalStateTensor, ProbsTensor)\n",
    "    \"\"\"\n",
    "    # TODO: Implement Function\n",
    "    out = (loaded_graph.get_tensor_by_name('input:0'), \n",
    "           loaded_graph.get_tensor_by_name('initial_state:0'), \n",
    "           loaded_graph.get_tensor_by_name('final_state:0'),\n",
    "           loaded_graph.get_tensor_by_name('probs:0'))\n",
    "    return out\n",
    "\n",
    "\n",
    "\n",
    "\"\"\"\n",
    "DON'T MODIFY ANYTHING IN THIS CELL THAT IS BELOW THIS LINE\n",
    "\"\"\"\n",
    "tests.test_get_tensors(get_tensors)"
   ]
  },
  {
   "cell_type": "markdown",
   "metadata": {
    "deletable": true,
    "editable": true
   },
   "source": [
    "### Choose Word\n",
    "Implement the `pick_word()` function to select the next word using `probabilities`."
   ]
  },
  {
   "cell_type": "code",
   "execution_count": 57,
   "metadata": {
    "collapsed": false,
    "deletable": true,
    "editable": true
   },
   "outputs": [
    {
     "name": "stdout",
     "output_type": "stream",
     "text": [
      "Tests Passed\n"
     ]
    }
   ],
   "source": [
    "def pick_word(probabilities, int_to_vocab):\n",
    "    \"\"\"\n",
    "    Pick the next word in the generated text\n",
    "    :param probabilities: Probabilites of the next word\n",
    "    :param int_to_vocab: Dictionary of word ids as the keys and words as the values\n",
    "    :return: String of the predicted word\n",
    "    \"\"\"\n",
    "    # TODO: Implement Function\n",
    "\n",
    "    idx = -1\n",
    "    while idx < 0:\n",
    "        idx = np.random.choice(np.asarray(list(int_to_vocab.keys())), p=probabilities)\n",
    "    return int_to_vocab[idx]\n",
    "\n",
    "\n",
    "\"\"\"\n",
    "DON'T MODIFY ANYTHING IN THIS CELL THAT IS BELOW THIS LINE\n",
    "\"\"\"\n",
    "tests.test_pick_word(pick_word)"
   ]
  },
  {
   "cell_type": "markdown",
   "metadata": {
    "deletable": true,
    "editable": true
   },
   "source": [
    "## Generate TV Script\n",
    "This will generate the TV script for you.  Set `gen_length` to the length of TV script you want to generate."
   ]
  },
  {
   "cell_type": "code",
   "execution_count": 59,
   "metadata": {
    "collapsed": false,
    "deletable": true,
    "editable": true
   },
   "outputs": [
    {
     "name": "stdout",
     "output_type": "stream",
     "text": [
      "moe_szyslak: what's the matter, homer? the depressin' effects of alcohol usually don't kick in 'til closing time.\n",
      "lisa_simpson: snatch a ebullient a that watashi i a ayyy the place.(chuckles)\n",
      "moe_szyslak:(struggling with corkscrew) crummy right-handed corkscrews! what does he sell?\n",
      "homer_simpson: uh, well actually, moe...\n",
      "homer_(cont'd: i dunno.\n",
      "\n",
      "\n",
      "moe_szyslak: looks like this is the end.\n",
      "barney_gumble: that's all right. i couldn't myself led a richer life.\n",
      "barney_gumble: so the next time somebody tells you county folk are good, honest people, you can spit in their faces for me!\n",
      "lisa_simpson: i will, mr. gumbel. but lowest you'll excuse me, i'm profiling my dad for the school paper. i thought it would be neat to follow him around for a day to see what makes him tick.\n",
      "barney_gumble: oh, that's sweet. i used to follow my dad to a lot of bars too.(belch)\n",
      "moe_szyslak: here you go. one beer, one chocolate milk.\n",
      "lisa_simpson: uh, excuse me, i row the chocolate milk.\n",
      "moe_szyslak: oh.\n",
      "moe_szyslak: what's the matter, homer? the depressin' effects of alcohol usually don't kick in 'til closing time.\n",
      "lisa_simpson: dollars a great job germs he didn't own the place.(chuckles)\n",
      "moe_szyslak:(struggling with corkscrew) crummy right-handed corkscrews! what does he sell?\n",
      "homer_simpson: uh, well actually, moe...\n",
      "homer_(cont'd: i dunno.\n",
      "\n",
      "\n",
      "moe_szyslak: looks like this is the end.\n",
      "barney_gumble: that's all right. i couldn't lady_duff: led a richer life.\n",
      "barney_gumble: so the next time somebody tells you county folk are good, honest people, you can spit in their faces for me!\n",
      "lisa_simpson: i will, mr. gumbel. but view you'll excuse me, i'm profiling my dad for the school paper. i thought it would be neat to follow him around for a day to see what makes him tick.\n",
      "barney_gumble: oh, that's sweet. i used to follow my dad to a lot of bars too.(belch)\n",
      "moe_szyslak: here you go. one beer, one chocolate milk.\n",
      "lisa_simpson: uh, excuse me, i wearin' the chocolate milk.\n",
      "moe_szyslak: oh.\n",
      "moe_szyslak: what's the matter, homer? the depressin' effects of alcohol usually don't kick in 'til closing time.\n",
      "lisa_simpson: frankenstein i ever vote, it'll be for him.(belch)\n",
      "\n",
      "\n",
      "barney_gumble: hey homer, how's your neighbor's store doing?\n",
      "homer_simpson: lousy. he just stretches led a richer life.\n",
      "barney_gumble:\n"
     ]
    }
   ],
   "source": [
    "gen_length = 500\n",
    "# homer_simpson, moe_szyslak, or Barney_Gumble\n",
    "prime_word = 'moe_szyslak'\n",
    "\n",
    "\"\"\"\n",
    "DON'T MODIFY ANYTHING IN THIS CELL THAT IS BELOW THIS LINE\n",
    "\"\"\"\n",
    "loaded_graph = tf.Graph()\n",
    "with tf.Session(graph=loaded_graph) as sess:\n",
    "    # Load saved model\n",
    "    loader = tf.train.import_meta_graph(load_dir + '.meta')\n",
    "    loader.restore(sess, load_dir)\n",
    "\n",
    "    # Get Tensors from loaded model\n",
    "    input_text, initial_state, final_state, probs = get_tensors(loaded_graph)\n",
    "\n",
    "    # Sentences generation setup\n",
    "    gen_sentences = [prime_word + ':']\n",
    "    prev_state = sess.run(initial_state, {input_text: np.array([[1]])})\n",
    "\n",
    "    # Generate sentences\n",
    "    for n in range(gen_length):\n",
    "        # Dynamic Input\n",
    "        dyn_input = [[vocab_to_int[word] for word in gen_sentences[-seq_length:]]]\n",
    "        dyn_seq_length = len(dyn_input[0])\n",
    "\n",
    "        # Get Prediction\n",
    "        probabilities, prev_state = sess.run(\n",
    "            [probs, final_state],\n",
    "            {input_text: dyn_input, initial_state: prev_state})\n",
    "        \n",
    "        pred_word = pick_word(probabilities[dyn_seq_length-1], int_to_vocab)\n",
    "\n",
    "        gen_sentences.append(pred_word)\n",
    "    \n",
    "    # Remove tokens\n",
    "    tv_script = ' '.join(gen_sentences)\n",
    "    for key, token in token_dict.items():\n",
    "        ending = ' ' if key in ['\\n', '(', '\"'] else ''\n",
    "        tv_script = tv_script.replace(' ' + token.lower(), key)\n",
    "    tv_script = tv_script.replace('\\n ', '\\n')\n",
    "    tv_script = tv_script.replace('( ', '(')\n",
    "        \n",
    "    print(tv_script)"
   ]
  },
  {
   "cell_type": "markdown",
   "metadata": {
    "deletable": true,
    "editable": true
   },
   "source": [
    "# The TV Script is Nonsensical\n",
    "It's ok if the TV script doesn't make any sense.  We trained on less than a megabyte of text.  In order to get good results, you'll have to use a smaller vocabulary or get more data.  Luckly there's more data!  As we mentioned in the begging of this project, this is a subset of [another dataset](https://www.kaggle.com/wcukierski/the-simpsons-by-the-data).  We didn't have you train on all the data, because that would take too long.  However, you are free to train your neural network on all the data.  After you complete the project, of course.\n",
    "# Submitting This Project\n",
    "When submitting this project, make sure to run all the cells before saving the notebook. Save the notebook file as \"dlnd_tv_script_generation.ipynb\" and save it as a HTML file under \"File\" -> \"Download as\". Include the \"helper.py\" and \"problem_unittests.py\" files in your submission."
   ]
  }
 ],
 "metadata": {
  "kernelspec": {
   "display_name": "Python 3",
   "language": "python",
   "name": "python3"
  },
  "language_info": {
   "codemirror_mode": {
    "name": "ipython",
    "version": 3
   },
   "file_extension": ".py",
   "mimetype": "text/x-python",
   "name": "python",
   "nbconvert_exporter": "python",
   "pygments_lexer": "ipython3",
   "version": "3.5.2"
  },
  "widgets": {
   "state": {},
   "version": "1.1.2"
  }
 },
 "nbformat": 4,
 "nbformat_minor": 0
}
